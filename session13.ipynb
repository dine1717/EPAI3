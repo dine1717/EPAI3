{
 "metadata": {
  "language_info": {
   "codemirror_mode": {
    "name": "ipython",
    "version": 3
   },
   "file_extension": ".py",
   "mimetype": "text/x-python",
   "name": "python",
   "nbconvert_exporter": "python",
   "pygments_lexer": "ipython3",
   "version": "3.8.3"
  },
  "orig_nbformat": 2,
  "kernelspec": {
   "name": "python3",
   "display_name": "Python 3.8.3 64-bit ('base': conda)",
   "metadata": {
    "interpreter": {
     "hash": "7798fa333b9d4b8bcd5d88812bb82ea248dcae56209490eced67e5589c006e54"
    }
   }
  }
 },
 "nbformat": 4,
 "nbformat_minor": 2,
 "cells": [
  {
   "cell_type": "code",
   "execution_count": null,
   "metadata": {},
   "outputs": [],
   "source": []
  },
  {
   "cell_type": "code",
   "execution_count": 1,
   "metadata": {},
   "outputs": [],
   "source": [
    "# imports\n",
    "from datetime import datetime\n",
    "from collections import namedtuple  \n",
    "from collections import Counter"
   ]
  },
  {
   "source": [
    "# Goal 1\n",
    "\n",
    "### Create a lazy iterator that will return a named tuple of the data in each row. The data types should be appropriate - i.e. if the column is a date, you should be storing dates in the named tuple, if the field is an integer, then it should be stored as an integer, etc."
   ],
   "cell_type": "markdown",
   "metadata": {}
  },
  {
   "cell_type": "code",
   "execution_count": 2,
   "metadata": {},
   "outputs": [],
   "source": [
    "def cast_row(row):\n",
    "    \"\"\"Function to cast the Row into proper data type\"\"\"\n",
    "    row[0] = int(row[0]) # Summons Number\n",
    "    row[5] = int(row[5]) # Violation Code\n",
    "    date_str = row[4].replace(\"/\", \"\") # Issue Date\n",
    "    format_str = '%m%d%Y' # The format\n",
    "    datetime_obj = datetime.strptime(date_str, format_str)\n",
    "    row[4] = datetime_obj.date()\n",
    "    return row"
   ]
  },
  {
   "cell_type": "code",
   "execution_count": 3,
   "metadata": {},
   "outputs": [],
   "source": [
    "def read_ticket_lazy(file_name):\n",
    "    \"\"\"Generator to yeild one row at a time from a file as a named tuple\"\"\"\n",
    "    with open(file_name) as file:\n",
    "        headers = next(file).strip('\\n').split(',')\n",
    "        headers = (item.replace(\" \", \"_\") for item in headers)\n",
    "        Ticket = namedtuple('Ticket', headers) # Create named tuple type\n",
    "        for line in file:\n",
    "            data = line.strip('\\n').split(',')\n",
    "            data = cast_row(data) # cast to the data types\n",
    "            ticket = Ticket(*data) # named tuple\n",
    "            yield ticket"
   ]
  },
  {
   "source": [
    "## get generator object"
   ],
   "cell_type": "markdown",
   "metadata": {}
  },
  {
   "cell_type": "code",
   "execution_count": 4,
   "metadata": {},
   "outputs": [
    {
     "output_type": "execute_result",
     "data": {
      "text/plain": [
       "<generator object read_ticket_lazy at 0x7fa99b41fe40>"
      ]
     },
     "metadata": {},
     "execution_count": 4
    }
   ],
   "source": [
    "# get generator object\n",
    "ticket_gen = read_ticket_lazy('nyc_parking_tickets_extract-1.csv')\n",
    "ticket_gen"
   ]
  },
  {
   "source": [
    "# get iterable (list) from genrator object"
   ],
   "cell_type": "markdown",
   "metadata": {}
  },
  {
   "cell_type": "code",
   "execution_count": 5,
   "metadata": {},
   "outputs": [
    {
     "output_type": "execute_result",
     "data": {
      "text/plain": [
       "1000"
      ]
     },
     "metadata": {},
     "execution_count": 5
    }
   ],
   "source": [
    "# get iterable (list) from genrator object\n",
    "ticket_list = list(ticket_gen)\n",
    "# find the number of elements in list\n",
    "len(ticket_list)"
   ]
  },
  {
   "source": [
    "# Check few elements ( output is named tuples)"
   ],
   "cell_type": "markdown",
   "metadata": {}
  },
  {
   "cell_type": "code",
   "execution_count": 7,
   "metadata": {},
   "outputs": [
    {
     "output_type": "execute_result",
     "data": {
      "text/plain": [
       "(Ticket(Summons_Number=4006462396, Plate_ID='22834JK', Registration_State='NY', Plate_Type='COM', Issue_Date=datetime.date(2016, 9, 30), Violation_Code=5, Vehicle_Body_Type='VAN', Vehicle_Make='CHEVR', Violation_Description='BUS LANE VIOLATION'),\n",
       " Ticket(Summons_Number=1420795430, Plate_ID='HBS5720', Registration_State='NY', Plate_Type='PAS', Issue_Date=datetime.date(2017, 4, 18), Violation_Code=98, Vehicle_Body_Type='SDN', Vehicle_Make='NISSA', Violation_Description=''))"
      ]
     },
     "metadata": {},
     "execution_count": 7
    }
   ],
   "source": [
    "# Check few elements ( output is named tuples) \n",
    "ticket_list[1], ticket_list[999]"
   ]
  },
  {
   "source": [
    "# Check for next object ( no output as generator got exhausted)"
   ],
   "cell_type": "markdown",
   "metadata": {}
  },
  {
   "cell_type": "code",
   "execution_count": 9,
   "metadata": {},
   "outputs": [
    {
     "output_type": "error",
     "ename": "StopIteration",
     "evalue": "",
     "traceback": [
      "\u001b[0;31m---------------------------------------------------------------------------\u001b[0m",
      "\u001b[0;31mStopIteration\u001b[0m                             Traceback (most recent call last)",
      "\u001b[0;32m<ipython-input-9-fc9c741a2d0f>\u001b[0m in \u001b[0;36m<module>\u001b[0;34m\u001b[0m\n\u001b[1;32m      1\u001b[0m \u001b[0;31m# Check for next object ( no output as generator got exhausted)\u001b[0m\u001b[0;34m\u001b[0m\u001b[0;34m\u001b[0m\u001b[0;34m\u001b[0m\u001b[0m\n\u001b[0;32m----> 2\u001b[0;31m \u001b[0mnext\u001b[0m\u001b[0;34m(\u001b[0m\u001b[0mticket_gen\u001b[0m\u001b[0;34m)\u001b[0m\u001b[0;34m\u001b[0m\u001b[0;34m\u001b[0m\u001b[0m\n\u001b[0m",
      "\u001b[0;31mStopIteration\u001b[0m: "
     ]
    }
   ],
   "source": [
    "# Check for next object ( no output as generator got exhausted)\n",
    "next(ticket_gen)"
   ]
  },
  {
   "source": [],
   "cell_type": "markdown",
   "metadata": {}
  },
  {
   "cell_type": "code",
   "execution_count": 10,
   "metadata": {},
   "outputs": [],
   "source": [
    "# get new generator object\n",
    "ticket_gen = read_ticket_lazy('nyc_parking_tickets_extract-1.csv')"
   ]
  },
  {
   "cell_type": "code",
   "execution_count": 11,
   "metadata": {},
   "outputs": [
    {
     "output_type": "execute_result",
     "data": {
      "text/plain": [
       "Ticket(Summons_Number=4006478550, Plate_ID='VAD7274', Registration_State='VA', Plate_Type='PAS', Issue_Date=datetime.date(2016, 10, 5), Violation_Code=5, Vehicle_Body_Type='4D', Vehicle_Make='BMW', Violation_Description='BUS LANE VIOLATION')"
      ]
     },
     "metadata": {},
     "execution_count": 11
    }
   ],
   "source": [
    "next(ticket_gen)"
   ]
  },
  {
   "cell_type": "code",
   "execution_count": 12,
   "metadata": {},
   "outputs": [
    {
     "output_type": "execute_result",
     "data": {
      "text/plain": [
       "Ticket(Summons_Number=4006462396, Plate_ID='22834JK', Registration_State='NY', Plate_Type='COM', Issue_Date=datetime.date(2016, 9, 30), Violation_Code=5, Vehicle_Body_Type='VAN', Vehicle_Make='CHEVR', Violation_Description='BUS LANE VIOLATION')"
      ]
     },
     "metadata": {},
     "execution_count": 12
    }
   ],
   "source": [
    "next(ticket_gen)"
   ]
  },
  {
   "source": [
    "# Goal 2\n",
    "## Calculate the number of violations by car make."
   ],
   "cell_type": "markdown",
   "metadata": {}
  },
  {
   "cell_type": "code",
   "execution_count": 13,
   "metadata": {},
   "outputs": [],
   "source": [
    "def get_voilations_by_car_make(make_name):\n",
    "    \"\"\"Return the number of voilations by a car make\"\"\"\n",
    "    violating_cars = (ticket.Vehicle_Make for ticket in ticket_list) # generator object\n",
    "    v_card_dict = Counter(violating_cars)\n",
    "\n",
    "    return(v_card_dict[make_name]) # Return the voilations"
   ]
  },
  {
   "cell_type": "code",
   "execution_count": 14,
   "metadata": {},
   "outputs": [
    {
     "output_type": "execute_result",
     "data": {
      "text/plain": [
       "34"
      ]
     },
     "metadata": {},
     "execution_count": 14
    }
   ],
   "source": [
    "get_voilations_by_car_make('BMW')"
   ]
  },
  {
   "cell_type": "code",
   "execution_count": 15,
   "metadata": {},
   "outputs": [
    {
     "output_type": "execute_result",
     "data": {
      "text/plain": [
       "76"
      ]
     },
     "metadata": {},
     "execution_count": 15
    }
   ],
   "source": [
    "get_voilations_by_car_make('CHEVR')"
   ]
  },
  {
   "cell_type": "code",
   "execution_count": null,
   "metadata": {},
   "outputs": [],
   "source": []
  }
 ]
}