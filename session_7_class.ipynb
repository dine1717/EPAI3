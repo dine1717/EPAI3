{
 "metadata": {
  "language_info": {
   "codemirror_mode": {
    "name": "ipython",
    "version": 3
   },
   "file_extension": ".py",
   "mimetype": "text/x-python",
   "name": "python",
   "nbconvert_exporter": "python",
   "pygments_lexer": "ipython3",
   "version": "3.8.3"
  },
  "orig_nbformat": 2,
  "kernelspec": {
   "name": "python3",
   "display_name": "Python 3.8.3 64-bit ('base': conda)",
   "metadata": {
    "interpreter": {
     "hash": "7798fa333b9d4b8bcd5d88812bb82ea248dcae56209490eced67e5589c006e54"
    }
   }
  }
 },
 "nbformat": 4,
 "nbformat_minor": 2,
 "cells": [
  {
   "cell_type": "code",
   "execution_count": 25,
   "metadata": {},
   "outputs": [],
   "source": [
    "def check_docstring(func):\n",
    "    '''closure that takes a function and then check whether the function passed has a docstring with more than 50 characters. 50 is stored as a free variable'''\n",
    "    length = 50\n",
    "    doc = (func.__doc__)\n",
    "\n",
    "    def validate_docstring():\n",
    "        print(F'length of the doc string {len(doc.split())}')\n",
    "        if len(doc.split()) >= length:\n",
    "            return True\n",
    "        else:\n",
    "            return False\n",
    "    return validate_docstring\n"
   ]
  },
  {
   "cell_type": "code",
   "execution_count": 26,
   "metadata": {},
   "outputs": [],
   "source": [
    "def sample_func():\n",
    "    \"\"\"\n",
    "    Hi this a closure  and this function is a sample function and used for sample check \n",
    "    \"\"\"\n",
    "    "
   ]
  },
  {
   "cell_type": "code",
   "execution_count": 28,
   "metadata": {},
   "outputs": [
    {
     "output_type": "stream",
     "name": "stdout",
     "text": [
      "length of the doc string 16\n"
     ]
    },
    {
     "output_type": "execute_result",
     "data": {
      "text/plain": [
       "False"
      ]
     },
     "metadata": {},
     "execution_count": 28
    }
   ],
   "source": [
    "check_docstring(sample_func)()"
   ]
  },
  {
   "cell_type": "code",
   "execution_count": 35,
   "metadata": {},
   "outputs": [],
   "source": [
    "def get_next_fibbonacci():\n",
    "    '''Write a closure that gives you the next Fibonacci number'''\n",
    "    index = 1\n",
    "\n",
    "    def Fibonacci(n:int)-> int:\n",
    "        '''Generates nth fibonacci number in the series'''\n",
    "        if n==1:\n",
    "            fibonacci = 0\n",
    "        elif n==2:\n",
    "            fibonacci = 1\n",
    "        else:\n",
    "            fibonacci = Fibonacci(n-1) + Fibonacci(n-2)\n",
    "        return fibonacci\n",
    "\n",
    "    def next_fibonacci():\n",
    "        '''Closure '''\n",
    "        nonlocal index\n",
    "        fibb_no = Fibonacci(index)\n",
    "        index += 1\n",
    "        return fibb_no\n",
    "    return next_fibonacci\n"
   ]
  },
  {
   "cell_type": "code",
   "execution_count": 38,
   "metadata": {},
   "outputs": [
    {
     "output_type": "execute_result",
     "data": {
      "text/plain": [
       "34"
      ]
     },
     "metadata": {},
     "execution_count": 38
    }
   ],
   "source": [
    "fibb_nos = [ 0, 1, 1, 2, 3, 5, 8,13,21]\n",
    "f1 = get_next_fibbonacci()\n",
    "for i in range(len(fibb_nos)):\n",
    "        assert f1() == fibb_nos[i], \"Fibonaaci not correct\"\n",
    "f1()"
   ]
  },
  {
   "cell_type": "code",
   "execution_count": 53,
   "metadata": {},
   "outputs": [],
   "source": [
    "def func_count():\n",
    "    '''Closure  that can keep a track of how many times add/mul/div functions were called, and update a global dictionary variable with the counts'''\n",
    "    dic_oper = {\"add\":0, \"mul\":0, \"div\":0}\n",
    "    \n",
    "    def inc(func, param1, param2, increment = 1):\n",
    "        func(param1, param2)\n",
    "        nonlocal dic_oper\n",
    "        dic_oper[func.__name__] += increment\n",
    "        return dic_oper\n",
    "    return inc\n",
    "\n",
    "def add(a:int, b:int):\n",
    "    return a + b\n",
    "\n",
    "def mul(a:int, b:int):\n",
    "    return a * b\n",
    "\n",
    "def div(a:int, b:int):\n",
    "    return a / b"
   ]
  },
  {
   "cell_type": "code",
   "execution_count": 58,
   "metadata": {},
   "outputs": [
    {
     "output_type": "execute_result",
     "data": {
      "text/plain": [
       "{'add': 50, 'mul': 10, 'div': 30}"
      ]
     },
     "metadata": {},
     "execution_count": 58
    }
   ],
   "source": [
    "f1=func_count()\n",
    "for i in range(50):\n",
    "        count_dict = f1(add, 1,3)\n",
    "        \n",
    "for i in range(10):\n",
    "    count_dict = f1(mul, 1,3)\n",
    "\n",
    "for i in range(30):\n",
    "    count_dict = f1(div, 1,3)\n",
    "\n",
    "count_dict"
   ]
  },
  {
   "cell_type": "code",
   "execution_count": 59,
   "metadata": {},
   "outputs": [],
   "source": [
    "def func_count_dict(dic_oper):\n",
    "    '''Modifies func_count such that now we can pass in different dictionary variables to update different dictionaries'''\n",
    "    \n",
    "    def inc(func, param1, param2, increment = 1):\n",
    "        func(param1, param2)\n",
    "        nonlocal dic_oper\n",
    "        dic_oper[func.__name__] += increment\n",
    "        return dic_oper\n",
    "    return inc\n",
    "\n",
    "def add(a:int, b:int):\n",
    "    return a + b\n",
    "\n",
    "def mul(a:int, b:int):\n",
    "    return a * b\n",
    "\n",
    "def div(a:int, b:int):\n",
    "    return a / b"
   ]
  },
  {
   "cell_type": "code",
   "execution_count": 63,
   "metadata": {},
   "outputs": [
    {
     "output_type": "execute_result",
     "data": {
      "text/plain": [
       "{'add': 100, 'mul': 0, 'div': 0}"
      ]
     },
     "metadata": {},
     "execution_count": 63
    }
   ],
   "source": [
    "f1=func_count()\n",
    "for i in range(100):\n",
    "        count_dict = f1(add, 1,3)\n",
    "count_dict"
   ]
  },
  {
   "cell_type": "code",
   "execution_count": null,
   "metadata": {},
   "outputs": [],
   "source": []
  }
 ]
}