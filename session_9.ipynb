{
 "metadata": {
  "language_info": {
   "codemirror_mode": {
    "name": "ipython",
    "version": 3
   },
   "file_extension": ".py",
   "mimetype": "text/x-python",
   "name": "python",
   "nbconvert_exporter": "python",
   "pygments_lexer": "ipython3",
   "version": "3.8.3"
  },
  "orig_nbformat": 2,
  "kernelspec": {
   "name": "python3",
   "display_name": "Python 3.8.3 64-bit ('base': conda)",
   "metadata": {
    "interpreter": {
     "hash": "7798fa333b9d4b8bcd5d88812bb82ea248dcae56209490eced67e5589c006e54"
    }
   }
  }
 },
 "nbformat": 4,
 "nbformat_minor": 2,
 "cells": [
  {
   "cell_type": "code",
   "execution_count": 109,
   "metadata": {},
   "outputs": [],
   "source": [
    "import pandas as pd\n",
    "import session_9"
   ]
  },
  {
   "cell_type": "code",
   "execution_count": 111,
   "metadata": {},
   "outputs": [],
   "source": [
    "## Create a fake pofiles \n",
    "faker_db = session_9.get_fake_profiles_nt(10)"
   ]
  },
  {
   "cell_type": "code",
   "execution_count": 113,
   "metadata": {},
   "outputs": [],
   "source": [
    "faker_db_dict = session_9.get_fake_profiles_dict(10)"
   ]
  },
  {
   "cell_type": "code",
   "execution_count": 118,
   "metadata": {},
   "outputs": [
    {
     "output_type": "stream",
     "name": "stdout",
     "text": [
      "Function get_average_age takes average run time of 1.3745969990850426e-05 for 100 iterations\n"
     ]
    },
    {
     "output_type": "execute_result",
     "data": {
      "text/plain": [
       "(44.70016495889717, 1.3745969990850426e-05)"
      ]
     },
     "metadata": {},
     "execution_count": 118
    }
   ],
   "source": [
    "session_9.get_average_age(faker_db)"
   ]
  },
  {
   "cell_type": "code",
   "execution_count": 121,
   "metadata": {},
   "outputs": [
    {
     "output_type": "stream",
     "name": "stdout",
     "text": [
      "Function get_average_age_dict takes average run time of 1.605642002687091e-05 for 100 iterations\n"
     ]
    },
    {
     "output_type": "execute_result",
     "data": {
      "text/plain": [
       "(48.024805437483316, 1.605642002687091e-05)"
      ]
     },
     "metadata": {},
     "execution_count": 121
    }
   ],
   "source": [
    "session_9.get_average_age_dict(faker_db_dict)"
   ]
  },
  {
   "cell_type": "code",
   "execution_count": 122,
   "metadata": {},
   "outputs": [
    {
     "output_type": "stream",
     "name": "stdout",
     "text": [
      "Function get_oldest_person_age takes average run time of 1.1862990058943978e-05 for 100 iterations\nFunction get_oldest_person_age_dict takes average run time of 2.2126000039861538e-05 for 100 iterations\n"
     ]
    },
    {
     "output_type": "execute_result",
     "data": {
      "text/plain": [
       "(103.72013114574564, 2.2126000039861538e-05)"
      ]
     },
     "metadata": {},
     "execution_count": 122
    }
   ],
   "source": [
    "session_9.get_oldest_person_age(faker_db)\n",
    "session_9.get_oldest_person_age_dict(faker_db_dict)"
   ]
  },
  {
   "cell_type": "code",
   "execution_count": 123,
   "metadata": {},
   "outputs": [
    {
     "output_type": "stream",
     "name": "stdout",
     "text": [
      "Function get_mean_current_location takes average run time of 8.49555997774587e-06 for 100 iterations\nFunction get_mean_current_location_dict takes average run time of 1.7141060043286414e-05 for 100 iterations\n"
     ]
    },
    {
     "output_type": "execute_result",
     "data": {
      "text/plain": [
       "((Decimal('10.98579515'), Decimal('6.1749386')), 1.7141060043286414e-05)"
      ]
     },
     "metadata": {},
     "execution_count": 123
    }
   ],
   "source": [
    "session_9.get_mean_current_location(faker_db)\n",
    "session_9.get_mean_current_location_dict(faker_db_dict)"
   ]
  },
  {
   "cell_type": "code",
   "execution_count": 114,
   "metadata": {},
   "outputs": [
    {
     "output_type": "stream",
     "name": "stdout",
     "text": [
      "Function get_largest_blood_group takes average run time of 1.3418270063993988e-05 for 100 iterations\nFunction get_mean_current_location takes average run time of 1.4525360011248268e-05 for 100 iterations\nFunction get_oldest_person_age takes average run time of 1.121376996707113e-05 for 100 iterations\nFunction get_average_age takes average run time of 1.322523000453657e-05 for 100 iterations\n\n ========================\nFunction get_largest_blood_group_dict takes average run time of 2.227168004537816e-05 for 100 iterations\nFunction get_mean_current_location_dict takes average run time of 1.71055199825787e-05 for 100 iterations\nFunction get_oldest_person_age_dict takes average run time of 1.750843000081659e-05 for 100 iterations\nFunction get_average_age_dict takes average run time of 1.822773005187628e-05 for 100 iterations\n\n ========================\n\n ========================\nNamed Tuple performed 1 times faster\n\n ========================\n"
     ]
    },
    {
     "output_type": "execute_result",
     "data": {
      "text/plain": [
       "(5.238263004684996e-05, 7.511336008064973e-05)"
      ]
     },
     "metadata": {},
     "execution_count": 114
    }
   ],
   "source": [
    "session_9.compare_time(faker_db, faker_db_dict)"
   ]
  },
  {
   "cell_type": "code",
   "execution_count": null,
   "metadata": {},
   "outputs": [],
   "source": []
  },
  {
   "cell_type": "code",
   "execution_count": 115,
   "metadata": {},
   "outputs": [],
   "source": [
    "stock_exchange = session_9.create_stock_exchange(num_of_listed_comp = 100)"
   ]
  },
  {
   "cell_type": "code",
   "execution_count": 117,
   "metadata": {},
   "outputs": [
    {
     "output_type": "stream",
     "name": "stdout",
     "text": [
      "=======Stock Exchange Preformace=========\nMarket opened at 3961.9, reached to highest of 4195.5 while touched to lowest at 3098.67 and finally closed at 3693.15\n"
     ]
    }
   ],
   "source": [
    "# Stock market details\n",
    "day_open,day_high,day_low,day_close = session_9.stock_exchange_details(stock_exchange)\n",
    "print(\"=======Stock Exchange Preformace=========\")\n",
    "print(f'Market opened at {day_open}, reached to highest of {day_high} while touched to lowest at {day_low} and finally closed at {day_close}')"
   ]
  },
  {
   "cell_type": "code",
   "execution_count": 116,
   "metadata": {},
   "outputs": [
    {
     "output_type": "execute_result",
     "data": {
      "text/plain": [
       "                    company_name symbol  value   open   high    low  close\n",
       "0            Hunt, Kim and Bowen    HMN   3079   3.58   3.19   3.14   3.15\n",
       "1                    Moon-Arnold    MOD   4251  50.28  53.30  33.46  33.73\n",
       "2                  Green-Pittman    GPN   4162  54.88  48.84  47.21  47.60\n",
       "3     Johnson, Castro and Graves    JSS   4956  78.80  70.92  44.78  49.95\n",
       "4   Johnson, Macdonald and Duran    JNN   3605  55.22  61.85  60.24  61.21\n",
       "..                           ...    ...    ...    ...    ...    ...    ...\n",
       "95                    Bell-Wyatt    BLT   4116  42.30  49.07  39.24  39.31\n",
       "96   Deleon, Mcdonald and Mercer    DDR   3837  10.42  13.55   5.57  12.45\n",
       "97                 Schultz-Sloan    SLN   4991  75.49  92.10  62.18  86.28\n",
       "98                  Wood-Delgado    WGO   3126   7.88   7.56   4.16   6.62\n",
       "99   Chung, Johnson and Mckenzie    COE   4125  65.59  72.80  66.65  71.79\n",
       "\n",
       "[100 rows x 7 columns]"
      ],
      "text/html": "<div>\n<style scoped>\n    .dataframe tbody tr th:only-of-type {\n        vertical-align: middle;\n    }\n\n    .dataframe tbody tr th {\n        vertical-align: top;\n    }\n\n    .dataframe thead th {\n        text-align: right;\n    }\n</style>\n<table border=\"1\" class=\"dataframe\">\n  <thead>\n    <tr style=\"text-align: right;\">\n      <th></th>\n      <th>company_name</th>\n      <th>symbol</th>\n      <th>value</th>\n      <th>open</th>\n      <th>high</th>\n      <th>low</th>\n      <th>close</th>\n    </tr>\n  </thead>\n  <tbody>\n    <tr>\n      <th>0</th>\n      <td>Hunt, Kim and Bowen</td>\n      <td>HMN</td>\n      <td>3079</td>\n      <td>3.58</td>\n      <td>3.19</td>\n      <td>3.14</td>\n      <td>3.15</td>\n    </tr>\n    <tr>\n      <th>1</th>\n      <td>Moon-Arnold</td>\n      <td>MOD</td>\n      <td>4251</td>\n      <td>50.28</td>\n      <td>53.30</td>\n      <td>33.46</td>\n      <td>33.73</td>\n    </tr>\n    <tr>\n      <th>2</th>\n      <td>Green-Pittman</td>\n      <td>GPN</td>\n      <td>4162</td>\n      <td>54.88</td>\n      <td>48.84</td>\n      <td>47.21</td>\n      <td>47.60</td>\n    </tr>\n    <tr>\n      <th>3</th>\n      <td>Johnson, Castro and Graves</td>\n      <td>JSS</td>\n      <td>4956</td>\n      <td>78.80</td>\n      <td>70.92</td>\n      <td>44.78</td>\n      <td>49.95</td>\n    </tr>\n    <tr>\n      <th>4</th>\n      <td>Johnson, Macdonald and Duran</td>\n      <td>JNN</td>\n      <td>3605</td>\n      <td>55.22</td>\n      <td>61.85</td>\n      <td>60.24</td>\n      <td>61.21</td>\n    </tr>\n    <tr>\n      <th>...</th>\n      <td>...</td>\n      <td>...</td>\n      <td>...</td>\n      <td>...</td>\n      <td>...</td>\n      <td>...</td>\n      <td>...</td>\n    </tr>\n    <tr>\n      <th>95</th>\n      <td>Bell-Wyatt</td>\n      <td>BLT</td>\n      <td>4116</td>\n      <td>42.30</td>\n      <td>49.07</td>\n      <td>39.24</td>\n      <td>39.31</td>\n    </tr>\n    <tr>\n      <th>96</th>\n      <td>Deleon, Mcdonald and Mercer</td>\n      <td>DDR</td>\n      <td>3837</td>\n      <td>10.42</td>\n      <td>13.55</td>\n      <td>5.57</td>\n      <td>12.45</td>\n    </tr>\n    <tr>\n      <th>97</th>\n      <td>Schultz-Sloan</td>\n      <td>SLN</td>\n      <td>4991</td>\n      <td>75.49</td>\n      <td>92.10</td>\n      <td>62.18</td>\n      <td>86.28</td>\n    </tr>\n    <tr>\n      <th>98</th>\n      <td>Wood-Delgado</td>\n      <td>WGO</td>\n      <td>3126</td>\n      <td>7.88</td>\n      <td>7.56</td>\n      <td>4.16</td>\n      <td>6.62</td>\n    </tr>\n    <tr>\n      <th>99</th>\n      <td>Chung, Johnson and Mckenzie</td>\n      <td>COE</td>\n      <td>4125</td>\n      <td>65.59</td>\n      <td>72.80</td>\n      <td>66.65</td>\n      <td>71.79</td>\n    </tr>\n  </tbody>\n</table>\n<p>100 rows × 7 columns</p>\n</div>"
     },
     "metadata": {},
     "execution_count": 116
    }
   ],
   "source": [
    "df = pd.DataFrame(stock_exchange)\n",
    "df"
   ]
  },
  {
   "cell_type": "code",
   "execution_count": null,
   "metadata": {},
   "outputs": [],
   "source": []
  },
  {
   "cell_type": "code",
   "execution_count": null,
   "metadata": {},
   "outputs": [],
   "source": []
  }
 ]
}